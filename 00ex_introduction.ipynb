{
 "cells": [
  {
   "cell_type": "markdown",
   "metadata": {},
   "source": [
    "1. The MickeyMouse problem\n",
    "\n",
    "a) Write a program that prints the numbers from 1 to 100. But for multiples of 3 print `Mickey` instead of the corresponding number and for the multiples of 5 print `Mouse`. For numbers which are multiples of both three and five print `MickeyMouse`\n",
    "\n",
    "b) Put the result in a tuple and substitute `Mickey` with `Donald` and `Mouse` with `Duck`"
   ]
  },
  {
   "cell_type": "code",
   "execution_count": 1,
   "metadata": {},
   "outputs": [
    {
     "name": "stdout",
     "output_type": "stream",
     "text": [
      "a)\n",
      "-----\n",
      "1\n",
      "2\n",
      "Mickey\n",
      "4\n",
      "Mouse\n",
      "Mickey\n",
      "7\n",
      "8\n",
      "Mickey\n",
      "Mouse\n",
      "11\n",
      "Mickey\n",
      "13\n",
      "14\n",
      "Mickey\n",
      "16\n",
      "17\n",
      "Mickey\n",
      "19\n",
      "Mouse\n",
      "Mickey\n",
      "22\n",
      "23\n",
      "Mickey\n",
      "Mouse\n",
      "26\n",
      "Mickey\n",
      "28\n",
      "29\n",
      "Mickey\n",
      "31\n",
      "32\n",
      "Mickey\n",
      "34\n",
      "Mouse\n",
      "Mickey\n",
      "37\n",
      "38\n",
      "Mickey\n",
      "Mouse\n",
      "41\n",
      "Mickey\n",
      "43\n",
      "44\n",
      "Mickey\n",
      "46\n",
      "47\n",
      "Mickey\n",
      "49\n",
      "Mouse\n",
      "Mickey\n",
      "52\n",
      "53\n",
      "Mickey\n",
      "Mouse\n",
      "56\n",
      "Mickey\n",
      "58\n",
      "59\n",
      "Mickey\n",
      "61\n",
      "62\n",
      "Mickey\n",
      "64\n",
      "Mouse\n",
      "Mickey\n",
      "67\n",
      "68\n",
      "Mickey\n",
      "Mouse\n",
      "71\n",
      "Mickey\n",
      "73\n",
      "74\n",
      "Mickey\n",
      "76\n",
      "77\n",
      "Mickey\n",
      "79\n",
      "Mouse\n",
      "Mickey\n",
      "82\n",
      "83\n",
      "Mickey\n",
      "Mouse\n",
      "86\n",
      "Mickey\n",
      "88\n",
      "89\n",
      "Mickey\n",
      "91\n",
      "92\n",
      "Mickey\n",
      "94\n",
      "Mouse\n",
      "Mickey\n",
      "97\n",
      "98\n",
      "Mickey\n",
      "Mouse\n"
     ]
    }
   ],
   "source": [
    "print(\"a)\\n-----\")\n",
    "\n",
    "res = []\n",
    "for i in range(1, 101):\n",
    "    if (i % 15) == 0:\n",
    "        res.append(\"MickeyMouse\")\n",
    "    if (i % 3) == 0:\n",
    "        res.append(\"Mickey\")\n",
    "    elif (i % 5) == 0:\n",
    "        res.append(\"Mouse\")\n",
    "    else:\n",
    "        res.append(i)\n",
    "    print(res[-1])"
   ]
  },
  {
   "cell_type": "code",
   "execution_count": 2,
   "metadata": {},
   "outputs": [
    {
     "name": "stdout",
     "output_type": "stream",
     "text": [
      "b)\n",
      "-----\n",
      "1\n",
      "2\n",
      "Mickey\n",
      "4\n",
      "Mouse\n",
      "Mickey\n",
      "7\n",
      "8\n",
      "Mickey\n",
      "Mouse\n",
      "11\n",
      "Mickey\n",
      "13\n",
      "14\n",
      "MickeyMouse\n",
      "Mickey\n",
      "16\n",
      "17\n",
      "Mickey\n",
      "19\n",
      "Mouse\n",
      "Mickey\n",
      "22\n",
      "23\n",
      "Mickey\n",
      "Mouse\n",
      "26\n",
      "Mickey\n",
      "28\n",
      "29\n",
      "MickeyMouse\n",
      "Mickey\n",
      "31\n",
      "32\n",
      "Mickey\n",
      "34\n",
      "Mouse\n",
      "Mickey\n",
      "37\n",
      "38\n",
      "Mickey\n",
      "Mouse\n",
      "41\n",
      "Mickey\n",
      "43\n",
      "44\n",
      "MickeyMouse\n",
      "Mickey\n",
      "46\n",
      "47\n",
      "Mickey\n",
      "49\n",
      "Mouse\n",
      "Mickey\n",
      "52\n",
      "53\n",
      "Mickey\n",
      "Mouse\n",
      "56\n",
      "Mickey\n",
      "58\n",
      "59\n",
      "MickeyMouse\n",
      "Mickey\n",
      "61\n",
      "62\n",
      "Mickey\n",
      "64\n",
      "Mouse\n",
      "Mickey\n",
      "67\n",
      "68\n",
      "Mickey\n",
      "Mouse\n",
      "71\n",
      "Mickey\n",
      "73\n",
      "74\n",
      "MickeyMouse\n",
      "Mickey\n",
      "76\n",
      "77\n",
      "Mickey\n",
      "79\n",
      "Mouse\n",
      "Mickey\n",
      "82\n",
      "83\n",
      "Mickey\n",
      "Mouse\n",
      "86\n",
      "Mickey\n",
      "88\n",
      "89\n",
      "MickeyMouse\n",
      "Mickey\n",
      "91\n",
      "92\n",
      "Mickey\n",
      "94\n",
      "Mouse\n",
      "Mickey\n",
      "97\n",
      "98\n",
      "Mickey\n",
      "Mouse\n"
     ]
    }
   ],
   "source": [
    "print(\"b)\\n-----\")\n",
    "\n",
    "for i, item in enumerate(res):\n",
    "    if item == \"Mickey\":\n",
    "        res[i] = \"Donald\"\n",
    "    elif item == \"Mouse\":\n",
    "        res[i] = \"Duck\"\n",
    "    print(item)"
   ]
  },
  {
   "cell_type": "markdown",
   "metadata": {},
   "source": [
    "2\\. The swap function\n",
    "\n",
    "Write a function that swap the values of two input variables x and y (whatever the type). Try to do that also without a temporary variable"
   ]
  },
  {
   "cell_type": "code",
   "execution_count": 3,
   "metadata": {},
   "outputs": [
    {
     "name": "stdout",
     "output_type": "stream",
     "text": [
      "a=1\n",
      "b=2\n",
      "Swapped:\n",
      "a=2\n",
      "b=1\n"
     ]
    }
   ],
   "source": [
    "def swap(x, y):\n",
    "    x, y = y, x\n",
    "    return x, y\n",
    "\n",
    "a, b = 1, 2\n",
    "print(f\"a={a}\\nb={b}\")\n",
    "a, b = swap(a, b)\n",
    "print(f\"Swapped:\\na={a}\\nb={b}\")"
   ]
  },
  {
   "cell_type": "markdown",
   "metadata": {},
   "source": [
    "3\\. Computing the distance\n",
    "\n",
    "Write a function that calculates and returns the euclidean distance between two points *u* and *v*, where *u* and *v* are both 2-tuples *(x,y)*. For example, if *u=(3,0)* and *v=(0,4)*, the function should return 5"
   ]
  },
  {
   "cell_type": "code",
   "execution_count": 4,
   "metadata": {},
   "outputs": [
    {
     "name": "stdout",
     "output_type": "stream",
     "text": [
      "5.0\n"
     ]
    }
   ],
   "source": [
    "def distance(u, v):\n",
    "    return ((u[0] - v[0])**2 + (u[1] - v[1])**2)**0.5\n",
    "\n",
    "print(distance((3, 0), (0, 4)))"
   ]
  },
  {
   "cell_type": "markdown",
   "metadata": {},
   "source": [
    "4\\. Counting letters\n",
    "\n",
    "Write a program to calculate the number of times each character occurs in a given string *s*. Ignore differneces in capitalization"
   ]
  },
  {
   "cell_type": "code",
   "execution_count": 5,
   "metadata": {},
   "outputs": [],
   "source": [
    "s=\"Write a program that prints the numbers from 1 to 100. \\\n",
    "But for multiples of three print Mickey instead of the number and for the multiples of five print Mouse. \\\n",
    "For numbers which are multiples of both three and five print MickeyMouse\""
   ]
  },
  {
   "cell_type": "code",
   "execution_count": 6,
   "metadata": {},
   "outputs": [
    {
     "name": "stdout",
     "output_type": "stream",
     "text": [
      "' ' : 41\n",
      "'.' : 2\n",
      "'0' : 2\n",
      "'1' : 2\n",
      "'a' : 7\n",
      "'b' : 5\n",
      "'c' : 3\n",
      "'d' : 3\n",
      "'e' : 22\n",
      "'f' : 10\n",
      "'g' : 1\n",
      "'h' : 9\n",
      "'i' : 14\n",
      "'k' : 2\n",
      "'l' : 6\n",
      "'m' : 12\n",
      "'n' : 10\n",
      "'o' : 13\n",
      "'p' : 8\n",
      "'r' : 17\n",
      "'s' : 9\n",
      "'t' : 19\n",
      "'u' : 9\n",
      "'v' : 2\n",
      "'w' : 2\n",
      "'y' : 2\n"
     ]
    }
   ],
   "source": [
    "chars_in_s = list(set(list(s.lower())))\n",
    "chars_in_s.sort()\n",
    "for char in chars_in_s:\n",
    "    print(f\"'{char}'\", \":\", tuple(list(s.lower())).count(char))"
   ]
  },
  {
   "cell_type": "markdown",
   "metadata": {},
   "source": [
    "5\\. Isolating the unique\n",
    "\n",
    "Write a function that determines and count the unique numbers in the list *l*"
   ]
  },
  {
   "cell_type": "code",
   "execution_count": 7,
   "metadata": {},
   "outputs": [],
   "source": [
    "l = [36, 45, 58, 3, 74, 96, 64, 45, 31, 10, 24, 19, 33, 86, 99, 18, 63, 70, 85,\n",
    " 85, 63, 47, 56, 42, 70, 84, 88, 55, 20, 54, 8, 56, 51, 79, 81, 57, 37, 91,\n",
    " 1, 84, 84, 36, 66, 9, 89, 50, 42, 91, 50, 95, 90, 98, 39, 16, 82, 31, 92, 41,\n",
    " 45, 30, 66, 70, 34, 85, 94, 5, 3, 36, 72, 91, 84, 34, 87, 75, 53, 51, 20, 89, 51, 20]"
   ]
  },
  {
   "cell_type": "code",
   "execution_count": 8,
   "metadata": {},
   "outputs": [
    {
     "name": "stdout",
     "output_type": "stream",
     "text": [
      "*1\n",
      "3 : 2\n",
      "*5\n",
      "*8\n",
      "*9\n",
      "*10\n",
      "*16\n",
      "*18\n",
      "*19\n",
      "20 : 3\n",
      "*24\n",
      "*30\n",
      "31 : 2\n",
      "*33\n",
      "34 : 2\n",
      "36 : 3\n",
      "*37\n",
      "*39\n",
      "*41\n",
      "42 : 2\n",
      "45 : 3\n",
      "*47\n",
      "50 : 2\n",
      "51 : 3\n",
      "*53\n",
      "*54\n",
      "*55\n",
      "56 : 2\n",
      "*57\n",
      "*58\n",
      "63 : 2\n",
      "*64\n",
      "66 : 2\n",
      "70 : 3\n",
      "*72\n",
      "*74\n",
      "*75\n",
      "*79\n",
      "*81\n",
      "*82\n",
      "84 : 4\n",
      "85 : 3\n",
      "*86\n",
      "*87\n",
      "*88\n",
      "89 : 2\n",
      "*90\n",
      "91 : 3\n",
      "*92\n",
      "*94\n",
      "*95\n",
      "*96\n",
      "*98\n",
      "*99\n"
     ]
    }
   ],
   "source": [
    "def unique_nums(nums):\n",
    "    nums_set = set(nums)\n",
    "    while len(nums_set) != 0:\n",
    "        num = nums_set.pop()\n",
    "        if tuple(nums).count(num) == 1:\n",
    "            print(f\"*{num}\")\n",
    "        else:\n",
    "            print(num, \":\", tuple(nums).count(num))\n",
    "\n",
    "unique_nums(l)"
   ]
  },
  {
   "cell_type": "markdown",
   "metadata": {},
   "source": [
    "6\\. Combination of functions\n",
    "\n",
    "Write two functions - one that returns the square of a number, and one that returns the cube. Now write a third function that returns the number raised to the 6th power using the two previous functions."
   ]
  },
  {
   "cell_type": "code",
   "execution_count": 9,
   "metadata": {},
   "outputs": [
    {
     "name": "stdout",
     "output_type": "stream",
     "text": [
      "Test result: True\n"
     ]
    }
   ],
   "source": [
    "def square(x):\n",
    "    return x**2\n",
    "\n",
    "def cube(x):\n",
    "    return x**3\n",
    "\n",
    "def power_6(x):\n",
    "    return square(cube(x))\n",
    "\n",
    "print(\"Test result:\", power_6(2) == 2**6)"
   ]
  },
  {
   "cell_type": "markdown",
   "metadata": {},
   "source": [
    "7\\. Cubes\n",
    "\n",
    "Create a list of the cubes of x for x in *[0, 10]* using:\n",
    "\n",
    "a) a for loop\n",
    "\n",
    "b) a list comprehension"
   ]
  },
  {
   "cell_type": "code",
   "execution_count": 10,
   "metadata": {},
   "outputs": [
    {
     "name": "stdout",
     "output_type": "stream",
     "text": [
      "a)\n",
      "-----\n",
      "[0, 1, 8, 27, 64, 125, 216, 343, 512, 729, 1000]\n"
     ]
    }
   ],
   "source": [
    "print(\"a)\\n-----\")\n",
    "\n",
    "res = []\n",
    "for i in range(0, 11):\n",
    "    res.append(cube(i))\n",
    "print(res)"
   ]
  },
  {
   "cell_type": "code",
   "execution_count": 11,
   "metadata": {},
   "outputs": [
    {
     "name": "stdout",
     "output_type": "stream",
     "text": [
      "b)\n",
      "-----\n",
      "[0, 1, 8, 27, 64, 125, 216, 343, 512, 729, 1000]\n"
     ]
    }
   ],
   "source": [
    "print(\"b)\\n-----\")\n",
    "\n",
    "print([cube(i) for i in range(0, 11)])"
   ]
  },
  {
   "cell_type": "markdown",
   "metadata": {},
   "source": [
    "8\\. Nested list comprehension\n",
    "\n",
    "A Pythagorean triple is an integer solution to the Pythagorean theorem $a^2+b^2=c^2$. The first Pythagorean triple is (3,4,5). Find and put in a tuple all unique Pythagorean triples for the positive integers a, b and c less than 100."
   ]
  },
  {
   "cell_type": "code",
   "execution_count": 12,
   "metadata": {},
   "outputs": [
    {
     "name": "stdout",
     "output_type": "stream",
     "text": [
      "a\tb\tc\n",
      "------------------\n",
      "3\t4\t5\n",
      "5\t12\t13\n",
      "6\t8\t10\n",
      "7\t24\t25\n",
      "8\t15\t17\n",
      "9\t12\t15\n",
      "9\t40\t41\n",
      "10\t24\t26\n",
      "11\t60\t61\n",
      "12\t16\t20\n",
      "12\t35\t37\n",
      "13\t84\t85\n",
      "14\t48\t50\n",
      "15\t20\t25\n",
      "15\t36\t39\n",
      "16\t30\t34\n",
      "16\t63\t65\n",
      "18\t24\t30\n",
      "18\t80\t82\n",
      "20\t21\t29\n",
      "20\t48\t52\n",
      "21\t28\t35\n",
      "21\t72\t75\n",
      "24\t32\t40\n",
      "24\t45\t51\n",
      "24\t70\t74\n",
      "25\t60\t65\n",
      "27\t36\t45\n",
      "28\t45\t53\n",
      "30\t40\t50\n",
      "30\t72\t78\n",
      "32\t60\t68\n",
      "33\t44\t55\n",
      "33\t56\t65\n",
      "35\t84\t91\n",
      "36\t48\t60\n",
      "36\t77\t85\n",
      "39\t52\t65\n",
      "39\t80\t89\n",
      "40\t42\t58\n",
      "40\t75\t85\n",
      "42\t56\t70\n",
      "45\t60\t75\n",
      "48\t55\t73\n",
      "48\t64\t80\n",
      "51\t68\t85\n",
      "54\t72\t90\n",
      "57\t76\t95\n",
      "60\t63\t87\n",
      "65\t72\t97\n"
     ]
    }
   ],
   "source": [
    "res = []\n",
    "for a in range(1, 100):\n",
    "    for b in range(a, 100):\n",
    "        for c in range(1, 100):\n",
    "            if (a**2 + b**2) == c**2:\n",
    "                res.append((a, b, c))\n",
    "print(\"a\\tb\\tc\\n------------------\")\n",
    "[print(f\"{item[0]}\\t{item[1]}\\t{item[2]}\") for item in res];"
   ]
  },
  {
   "cell_type": "markdown",
   "metadata": {},
   "source": [
    "9\\. Normalization\n",
    "\n",
    "Write a function that takes a tuple of numbers and returns it with the entries normalized to one"
   ]
  },
  {
   "cell_type": "code",
   "execution_count": 13,
   "metadata": {},
   "outputs": [
    {
     "name": "stdout",
     "output_type": "stream",
     "text": [
      "(1, 2, 3)\n",
      "Normalized:\n",
      "(0.2672612419124244, 0.5345224838248488, 0.8017837257372732)\n",
      "Normalization check: 1.0\n"
     ]
    }
   ],
   "source": [
    "def normalizer(x):\n",
    "    sum_of_sq = 0\n",
    "    for item in x:\n",
    "        sum_of_sq += item**2\n",
    "    res = []\n",
    "    for item in x:\n",
    "        res.append(item / sum_of_sq**0.5)\n",
    "    return tuple(res)\n",
    "\n",
    "a = (1, 2, 3)\n",
    "print(a)\n",
    "a_norm = normalizer(a)\n",
    "print(f\"Normalized:\\n{a_norm}\")\n",
    "print(\"Normalization check:\", sum([item**2 for item in a_norm]))"
   ]
  }
 ],
 "metadata": {
  "kernelspec": {
   "display_name": "Python [conda env:base] *",
   "language": "python",
   "name": "conda-base-py"
  },
  "language_info": {
   "codemirror_mode": {
    "name": "ipython",
    "version": 3
   },
   "file_extension": ".py",
   "mimetype": "text/x-python",
   "name": "python",
   "nbconvert_exporter": "python",
   "pygments_lexer": "ipython3",
   "version": "3.10.12"
  }
 },
 "nbformat": 4,
 "nbformat_minor": 4
}
