{
 "cells": [
  {
   "cell_type": "markdown",
   "metadata": {},
   "source": [
    "1\\. Write a function that converts number representation, bin<->dec<->hex. (Clearly using the corresponding python built-in functions is not fair..)"
   ]
  },
  {
   "cell_type": "code",
   "execution_count": 32,
   "metadata": {},
   "outputs": [
    {
     "name": "stdout",
     "output_type": "stream",
     "text": [
      "test:\n",
      "123 = ('0b1111011', '0x7b')\n",
      "0b1111011 = (123, '0x7b')\n",
      "0x7b = (123, '0b1111011')\n"
     ]
    }
   ],
   "source": [
    "# 0x <-> 0d <-> 0b\n",
    "\n",
    "def bin2dec(num_b: str):\n",
    "    res = 0\n",
    "    for n, v in enumerate(reversed(num_b[2:])):\n",
    "        res += int(v) * 2**n\n",
    "    return res\n",
    "\n",
    "def dec2bin(num_d: str):\n",
    "    r = 0\n",
    "    o = int(num_d)\n",
    "    res = []\n",
    "    while o != 0:\n",
    "        r = o % 2\n",
    "        o = o // 2\n",
    "        res.append(str(r))\n",
    "    return \"0b\" + \"\".join(reversed(res))\n",
    "\n",
    "def dec2hex(num_d: str):\n",
    "    hex_dict = {10: 'a', 11: 'b', 12: 'c', 13: 'd', 14: 'e', 15: 'f'}\n",
    "    r = 0\n",
    "    o = int(num_d)\n",
    "    res = []\n",
    "    while o != 0:\n",
    "        r = o % 16\n",
    "        o = o // 16\n",
    "        res.append(str(hex_dict.get(r, r)))\n",
    "    return \"0x\" + \"\".join(reversed(res))\n",
    "\n",
    "def hex2dec(num_x: str):\n",
    "    hex_dict = {'a': 10, 'b': 11, 'c': 12, 'd': 13, 'e': 14, 'f': 15}\n",
    "    res = 0\n",
    "    for n, v in enumerate(reversed(num_x[2:])):\n",
    "        res += int(hex_dict.get(v, v)) * 16**n\n",
    "    return res\n",
    "\n",
    "\n",
    "def convertor(num: str):\n",
    "    num = str(num)\n",
    "    if num[:2] == \"0b\":\n",
    "        return bin2dec(num), dec2hex(bin2dec(num))\n",
    "    elif num[:2] == \"0x\":\n",
    "        return hex2dec(num), dec2bin(hex2dec(num))\n",
    "    else:\n",
    "        return dec2bin(num), dec2hex(num)\n",
    "\n",
    "\n",
    "print(\"test:\")\n",
    "print(123, '=', convertor(123))\n",
    "print(\"0b1111011\", '=', convertor(\"0b1111011\"))\n",
    "print(\"0x7b\", '=', convertor(\"0x7b\"))"
   ]
  },
  {
   "cell_type": "markdown",
   "metadata": {},
   "source": [
    "2\\. Write a function that converts a 32 bit word into a single precision floating point (i.e. interprets the various bits as sign, mantissa and exponent)"
   ]
  },
  {
   "cell_type": "code",
   "execution_count": 31,
   "metadata": {},
   "outputs": [
    {
     "name": "stdout",
     "output_type": "stream",
     "text": [
      "test:\n",
      "1 10000001 01100000000000000000000 = -5.5\n"
     ]
    }
   ],
   "source": [
    "def spfp_convertor(num_b: str):\n",
    "    s = num_b[0] # 1 char\n",
    "    e = num_b[1:9] # 8 chars\n",
    "    f = num_b[9:]\n",
    "\n",
    "    m = 1\n",
    "    for i, f_i in enumerate(f):\n",
    "        m += int(f_i) * 2**(-i-1)\n",
    "    \n",
    "    return (-1)**int(s) * m * 2**(bin2dec(\"0b\" + e) - 127)\n",
    "\n",
    "print(\"test:\")\n",
    "print(\"1 10000001 01100000000000000000000 =\", spfp_convertor(\"11000000101100000000000000000000\"))"
   ]
  },
  {
   "cell_type": "markdown",
   "metadata": {},
   "source": [
    "3\\. Write a program to determine the underflow and overflow limits (within a factor of 2) for python on your computer. \n",
    "\n",
    "**Tips**: define two variables inizialized to 1 and halve/double them enough time to exceed the under/over-flow limits  "
   ]
  },
  {
   "cell_type": "code",
   "execution_count": 30,
   "metadata": {},
   "outputs": [
    {
     "name": "stdout",
     "output_type": "stream",
     "text": [
      "largest power of 2 before underflow = -1075\n",
      "largest power of 2 before overflow = 1024\n"
     ]
    }
   ],
   "source": [
    "under = 1.0\n",
    "n_under = 0\n",
    "while under != (under / 2):\n",
    "    under /= 2\n",
    "    n_under -= 1\n",
    "print(\"largest power of 2 before underflow =\", n_under)\n",
    "\n",
    "# if i set over to an int = 1, it will not stop the loop!\n",
    "over = 1.0\n",
    "n_over = 0\n",
    "while over != (over * 2):\n",
    "    over *= 2\n",
    "    n_over += 1\n",
    "    # print(over)\n",
    "print(\"largest power of 2 before overflow =\", n_over)"
   ]
  },
  {
   "cell_type": "markdown",
   "metadata": {},
   "source": [
    "4\\. Write a program to determine the machine precision\n",
    "\n",
    "**Tips**: define a new variable by adding a smaller and smaller value (proceeding similarly to prob. 2) to an original variable and check the point where the two are the same "
   ]
  },
  {
   "cell_type": "code",
   "execution_count": 37,
   "metadata": {},
   "outputs": [
    {
     "name": "stdout",
     "output_type": "stream",
     "text": [
      "smallest possible value to add = 1.1102230246251565e-16\n"
     ]
    }
   ],
   "source": [
    "sum_ = 1\n",
    "dx = 1\n",
    "while sum_ != (sum_ + dx):\n",
    "    dx /= 2\n",
    "\n",
    "print(\"smallest possible value to add =\", dx)"
   ]
  },
  {
   "cell_type": "markdown",
   "metadata": {},
   "source": [
    "5\\. Write a function that takes in input three parameters $a$, $b$ and $c$ and prints out the two solutions to the quadratic equation $ax^2+bx+c=0$ using the standard formula:\n",
    "$$\n",
    "x=\\frac{-b\\pm\\sqrt{b^2-4ac}}{2a}\n",
    "$$\n",
    "\n",
    "(a) use the program to compute the solution for $a=0.001$, $b=1000$ and $c=0.001$\n",
    "\n",
    "(b) re-express the standard solution formula by multiplying top and bottom by $-b\\mp\\sqrt{b^2-4ac}$ and again find the solution for $a=0.001$, $b=1000$ and $c=0.001$. How does it compare with what previously obtained? Why?\n",
    "\n",
    "(c) write a function that compute the roots of a quadratic equation accurately in all cases"
   ]
  },
  {
   "cell_type": "code",
   "execution_count": 33,
   "metadata": {},
   "outputs": [
    {
     "name": "stdout",
     "output_type": "stream",
     "text": [
      "a)\n",
      "(-999999.999999, -9.999894245993346e-07)\n",
      "b)\n",
      "(-1000010.5755125057, -1.0000000000009999e-06)\n",
      "c)\n"
     ]
    }
   ],
   "source": [
    "def x_cal(a, b, c):\n",
    "    return (-b - (b**2 - 4 * a * c)**0.5) / (2 * a), \\\n",
    "        (-b + (b**2 - 4 * a * c)**0.5) / (2 * a)\n",
    "\n",
    "def x_cal_2(a, b, c):\n",
    "    return (4 * a * c) / (2 * a * (-b + (b**2 - 4 * a * c)**0.5)), \\\n",
    "        (4 * a * c) / (2 * a * (-b - (b**2 - 4 * a * c)**0.5))\n",
    "\n",
    "def x_cal_better(a, b, c):\n",
    "    res_1 = x_cal(a, b, c)\n",
    "    res_2 = x_cal_2(a, b, c)\n",
    "    zip(res_1, res_2)\n",
    "    \n",
    "    \n",
    "a = 0.001\n",
    "b = 1000\n",
    "c = 0.001\n",
    "\n",
    "print(\"a)\")\n",
    "print(x_cal(a, b, c))\n",
    "print(\"b)\")\n",
    "print(x_cal_2(a, b, c))\n",
    "print(\"c)\")\n",
    "# TODO: find a method"
   ]
  },
  {
   "cell_type": "markdown",
   "metadata": {},
   "source": [
    "6\\. Write a program that implements the function $f(x)=x(x−1)$\n",
    "\n",
    "(a) Calculate the derivative of the function at the point $x = 1$ using the derivative definition:\n",
    "\n",
    "$$\n",
    "\\frac{{\\rm d}f}{{\\rm d}x} = \\lim_{\\delta\\to0} \\frac{f(x+\\delta)-f(x)}{\\delta}\n",
    "$$\n",
    "\n",
    "with $\\delta = 10^{−2}$. Calculate the true value of the same derivative analytically and compare with the answer your program gives. The two will not agree perfectly. Why not?\n",
    "\n",
    "(b) Repeat the calculation for $\\delta = 10^{−4}, 10^{−6}, 10^{−8}, 10^{−10}, 10^{−12}$ and $10^{−14}$. How does the accuracy scales with $\\delta$?"
   ]
  },
  {
   "cell_type": "code",
   "execution_count": 42,
   "metadata": {},
   "outputs": [
    {
     "name": "stdout",
     "output_type": "stream",
     "text": [
      "analytically\t1\n",
      "dx = 0.01\t1.010000000000001\n",
      "dx = 0.0001\t1.0000999999998899\n",
      "dx = 1e-06\t1.0000009999177333\n",
      "dx = 1e-08\t1.0000000039225287\n",
      "dx = 1e-10\t1.000000082840371\n",
      "dx = 1e-12\t1.0000889005833413\n",
      "dx = 1e-14\t0.9992007221626509\n"
     ]
    }
   ],
   "source": [
    "def f(x):\n",
    "    return x * (x - 1)\n",
    "\n",
    "def dfdx(x):\n",
    "    return 2 * x - 1\n",
    "\n",
    "def dfdx_delta(x, delta):\n",
    "    return (f(x + delta) - f(x)) / delta\n",
    "\n",
    "x = 1\n",
    "print(f\"analytically\\t{dfdx(x)}\")\n",
    "for delta_p in range(2, 15, 2):\n",
    "    delta = 10**(-delta_p)\n",
    "    print(f\"dx = {delta}\\t{dfdx_delta(x, delta)}\")"
   ]
  },
  {
   "cell_type": "markdown",
   "metadata": {},
   "source": [
    "7\\. Consider the integral of the semicircle of radius 1:\n",
    "$$\n",
    "I=\\int_{-1}^{1} \\sqrt(1-x^2) {\\rm d}x\n",
    "$$\n",
    "which it's known to be $I=\\frac{\\pi}{2}=1.57079632679...$.\n",
    "Alternatively we can use the Riemann definition of the integral:\n",
    "$$\n",
    "I=\\lim_{N\\to\\infty} \\sum_{k=1}^{N} h y_k \n",
    "$$\n",
    "\n",
    "with $h=2/N$ the width of each of the $N$ slices the domain is divided into and where\n",
    "$y_k$ is the value of the function at the $k-$th slice.\n",
    "\n",
    "(a) Write a programe to compute the integral with $N=100$. How does the result compares to the true value?\n",
    "\n",
    "(b) How much can $N$ be increased if the computation needs to be run in less than a second? What is the gain in running it for 1 minute? \n"
   ]
  },
  {
   "cell_type": "code",
   "execution_count": 54,
   "metadata": {},
   "outputs": [],
   "source": [
    "def y(x):\n",
    "    return (1 - x**2)**0.5\n",
    "\n",
    "def integral(N):\n",
    "    h = 2 / N\n",
    "    sum_ = 0\n",
    "    for k in range(1, N + 1):\n",
    "        sum_ += h * y(-1 + k * h)\n",
    "    return sum_"
   ]
  },
  {
   "cell_type": "code",
   "execution_count": 55,
   "metadata": {},
   "outputs": [
    {
     "name": "stdout",
     "output_type": "stream",
     "text": [
      "1.5691342555492505\n",
      "CPU times: user 455 μs, sys: 0 ns, total: 455 μs\n",
      "Wall time: 414 μs\n"
     ]
    }
   ],
   "source": [
    "%time print(integral(100))"
   ]
  },
  {
   "cell_type": "code",
   "execution_count": 56,
   "metadata": {},
   "outputs": [
    {
     "name": "stdout",
     "output_type": "stream",
     "text": [
      "N = 3100000\t1.570796326490248\n",
      "CPU times: user 990 ms, sys: 0 ns, total: 990 ms\n",
      "Wall time: 990 ms\n"
     ]
    }
   ],
   "source": [
    "%time print(f\"N = 3100000\\t{integral(3100000)}\")"
   ]
  },
  {
   "cell_type": "code",
   "execution_count": 57,
   "metadata": {},
   "outputs": [
    {
     "name": "stdout",
     "output_type": "stream",
     "text": [
      "N = 190000000\t1.570796326794299\n",
      "CPU times: user 57.8 s, sys: 6.98 ms, total: 57.9 s\n",
      "Wall time: 57.9 s\n"
     ]
    }
   ],
   "source": [
    "%time print(f\"N = 190000000\\t{integral(190000000)}\")"
   ]
  }
 ],
 "metadata": {
  "kernelspec": {
   "display_name": "Python 3",
   "language": "python",
   "name": "python3"
  },
  "language_info": {
   "codemirror_mode": {
    "name": "ipython",
    "version": 3
   },
   "file_extension": ".py",
   "mimetype": "text/x-python",
   "name": "python",
   "nbconvert_exporter": "python",
   "pygments_lexer": "ipython3",
   "version": "3.10.12"
  }
 },
 "nbformat": 4,
 "nbformat_minor": 4
}
